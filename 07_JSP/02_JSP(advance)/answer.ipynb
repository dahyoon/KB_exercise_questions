{
 "cells": [
  {
   "cell_type": "markdown",
   "metadata": {},
   "source": [
    "# 답안\n",
    "### 2 JSP의 이해(심화).pdf\n",
    "#### JSP의 이해 (심화1) (p.1 ~ p.2)\n",
    "##### 문제1: index.jsp 파일에 대한 자동 변환된 서블릿을 찾아 내용을 확인하세요. (p.2)\n",
    "- 경로 탬플릿: \n",
    "  ```\n",
    "  C:\\Users\\<사용자ID>\\AppData\\Local\\JetBrains\\IntelliJIdea<버전>\\tomcat\\<서버명>\\work\\Catalina\\localhost\\ROOT\\org\\apache\\jsp\\<패키지명>\n",
    "  ```\n",
    "- 실제 경로:\n",
    "  ```\n",
    "  C:\\Users\\student\\AppData\\Local\\JetBrains\\IntelliJIdea2024.3\\tomcat\\b06160dd-84e8-4f1a-81af-6f18832d17fe\\work\\Catalina\\localhost\\ROOT\\org\\apache\\jsp\\index_jsp.java\n",
    "  ```\n",
    "- 기존 코드 화면 캡처 (index.jsp)\n",
    "  - ![기존 코드 index.jsp 사진 캡쳐](answer(advance)_p2_1.png)\n",
    "- 변환된 servlet 코드 화면 캡처 (index_jsp.java)\n",
    "  - ![변환된 servlet 코드 index_jsp.java 사진 캡쳐](answer(advance)_p2_2.png)\n",
    "  \n",
    "#### JSP의 이해 (심화2) (p.3 ~ p.6)\n",
    "##### 문제2: copyright.jsp, main.jsp 파일을 간단히 작성한다. (main.jsp에서 copoyright.jsp파일을 include 디렉티브를 사용해 하단에 배치하도록 한다.) (p.4)\n",
    "- 답안 경로: \n",
    "  - 07_JSP/02_JSP(basic_advance)/study/src/main/webapp/copyright.jsp\n",
    "  - 07_JSP/02_JSP(basic_advance)/study/src/main/webapp/main.jsp\n",
    "##### 문제3: (p.5 ~ p.6)\n",
    "- 비고: \n",
    "  - main2.jsp 는 main.jsp로, main3.jsp는 main2.jsp로 명명함\n",
    "  - <jsp:param>으로 한글을 넣었을 때 깨지는 문제 해결 못했음\n",
    "- 답안 경로: \n",
    "  - 07_JSP/02_JSP(basic_advance)/study/src/main/webapp/layout_JSPStandardActionTag/header.jsp\n",
    "  - 07_JSP/02_JSP(basic_advance)/study/src/main/webapp/layout_JSPStandardActionTag/header2.jsp\n",
    "  - 07_JSP/02_JSP(basic_advance)/study/src/main/webapp/layout_JSPStandardActionTag/main.jsp\n",
    "  - 07_JSP/02_JSP(basic_advance)/study/src/main/webapp/layout_JSPStandardActionTag/main2.jsp"
   ]
  }
 ],
 "metadata": {
  "language_info": {
   "name": "python"
  }
 },
 "nbformat": 4,
 "nbformat_minor": 2
}
